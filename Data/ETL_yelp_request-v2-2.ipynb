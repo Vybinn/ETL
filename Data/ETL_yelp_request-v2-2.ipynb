{
 "cells": [
  {
   "cell_type": "code",
   "execution_count": null,
   "metadata": {},
   "outputs": [],
   "source": [
    "# Dependencies\n",
    "import pandas as pd\n",
    "import numpy as np\n",
    "import requests\n",
    "import json\n",
    "\n",
    "# Yelp API Key\n",
    "gkey = 'fxuoEjmZHd5kA1x20u4z2waSsXfTm49pWr2F6ac-htERJ0haCqXH949tlmDYt9lhy4MC6nBJjt2llMwhQJfxbwX69QlFkI221WkMDZTn7NMQBaXRrWGBFzCrg4-9XXYx'\n"
   ]
  },
  {
   "cell_type": "code",
   "execution_count": null,
   "metadata": {},
   "outputs": [],
   "source": [
    "from etl_clean_ip import zip_list"
   ]
  },
  {
   "cell_type": "code",
   "execution_count": null,
   "metadata": {},
   "outputs": [],
   "source": [
    "#set up base url\n",
    "# base url\n",
    "base_url = \"https://api.yelp.com/v3/businesses/search\"\n",
    "\n",
    "# set up api_key dictionary\n",
    "headers = {\n",
    "        'Authorization': 'Bearer %s' % gkey,\n",
    "    }\n",
    "\n",
    "# set up a parameters dictionary\n",
    "def s_params(target_loc,target_key,target_type):\n",
    "    params = {\n",
    "    \"location\": target_loc,\n",
    "    \"term\": target_key,\n",
    "    \"categories\": target_type,\n",
    "}\n",
    "    return params\n",
    "\n",
    "# run a request using our params dictionary\n",
    "def s_query(base_url,headers,params):\n",
    "    response = requests.request('GET', base_url, headers=headers, params=params).json()\n",
    "    return response\n",
    "\n"
   ]
  },
  {
   "cell_type": "code",
   "execution_count": null,
   "metadata": {},
   "outputs": [],
   "source": [
    "# Import zip list\n",
    "zip_list \n",
    "\n",
    "#cities_pd.shape[0] #use .shape[0] to count the number of rows"
   ]
  },
  {
   "cell_type": "code",
   "execution_count": null,
   "metadata": {},
   "outputs": [],
   "source": [
    "# yelp function\n",
    "def get_restaurants(zips):\n",
    "    \n",
    "    #these are the additional params\n",
    "    add_params = {\"sort_by\" : \"best_match\", \"limit\" : 5, \"radius\" : 40000}\n",
    "\n",
    "    #these are the original params\n",
    "    loc = zips\n",
    "    params = s_params(loc,\"restaurants\",\"restaurants, All\")\n",
    "\n",
    "    #add additional params to our params from before\n",
    "    s1_params = {**params,**add_params}\n",
    "\n",
    "    s1_results = s_query(base_url,headers,s1_params)\n",
    "    \n",
    "    if (s1_results[\"businesses\"][0][\"name\"]):\n",
    "        name = s1_results[\"businesses\"][0][\"name\"]\n",
    "        address = s1_results[\"businesses\"][0][\"location\"][\"display_address\"]\n",
    "        lat = s1_results[\"businesses\"][0][\"coordinates\"][\"latitude\"]\n",
    "        lon = s1_results[\"businesses\"][0][\"coordinates\"][\"longitude\"]\n",
    "        rating = s1_results[\"businesses\"][0][\"rating\"]\n",
    "        price = s1_results[\"businesses\"][0][\"price\"]\n",
    "        output = [name,address,lat,lon,rating,price] \n",
    "    else:\n",
    "        output = [\"NaN\",\"NaN\",\"NaN\",\"NaN\",\"NaN\",\"NaN\"]\n",
    "    \n",
    "    \n",
    "    return output\n"
   ]
  },
  {
   "cell_type": "code",
   "execution_count": null,
   "metadata": {},
   "outputs": [],
   "source": [
    "# Loop through the cities_pd and run a lat/long search for each city\n",
    "names = []\n",
    "addresses = []\n",
    "lats = []\n",
    "lons = []\n",
    "ratings = []\n",
    "price = []\n",
    "\n",
    "print(\"wait...\")\n",
    "\n",
    "\n",
    "for zips in zip_list:\n",
    "    output = get_restaurants(zips)\n",
    "    print(output)\n",
    "    names.append(output[0])\n",
    "    addresses.append(output[1])\n",
    "    lats.append(output[2])\n",
    "    lons.append(output[3])\n",
    "    ratings.append(output[4])\n",
    "    price.append(output[5])\n",
    "\n",
    "    \n",
    "print(\"done!\")"
   ]
  },
  {
   "cell_type": "code",
   "execution_count": null,
   "metadata": {},
   "outputs": [],
   "source": [
    "# Add columns for lat, lng, airport name, airport address, airport rating\n",
    "restaurants_df = pd.DataFrame(columns = ['Name', 'Street', \"City, State ZIP\", \"Ratings\", \"Price\"]) \n",
    "\n",
    "restaurants_df[\"Name\"] = names\n",
    "restaurants_df[\"Street\"] = addresses[0]\n",
    "restaurants_df[\"City, State Zip\"] = addresses[1]\n",
    "restaurants_df[\"Rating\"] = ratings\n",
    "restaurants_df[\"Price\"] = price\n",
    "restaurants_df.head()"
   ]
  },
  {
   "cell_type": "code",
   "execution_count": null,
   "metadata": {
    "scrolled": false
   },
   "outputs": [],
   "source": [
    "# Save Data to csv\n",
    "cities_pd.to_csv(\"Airport_Output.csv\")\n",
    "\n",
    "# Visualize to confirm airport data appears\n",
    "cities_pd.head(10)"
   ]
  },
  {
   "cell_type": "code",
   "execution_count": null,
   "metadata": {},
   "outputs": [],
   "source": []
  }
 ],
 "metadata": {
  "anaconda-cloud": {},
  "kernelspec": {
   "display_name": "Python 3",
   "language": "python",
   "name": "python3"
  },
  "language_info": {
   "codemirror_mode": {
    "name": "ipython",
    "version": 3
   },
   "file_extension": ".py",
   "mimetype": "text/x-python",
   "name": "python",
   "nbconvert_exporter": "python",
   "pygments_lexer": "ipython3",
   "version": "3.7.4"
  }
 },
 "nbformat": 4,
 "nbformat_minor": 1
}
